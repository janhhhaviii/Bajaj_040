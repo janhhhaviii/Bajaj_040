{
  "nbformat": 4,
  "nbformat_minor": 0,
  "metadata": {
    "colab": {
      "provenance": []
    },
    "kernelspec": {
      "name": "python3",
      "display_name": "Python 3"
    },
    "language_info": {
      "name": "python"
    }
  },
  "cells": [
    {
      "cell_type": "code",
      "execution_count": 27,
      "metadata": {
        "colab": {
          "base_uri": "https://localhost:8080/"
        },
        "id": "DeOWA_mDOVQz",
        "outputId": "8bb302c3-6543-4c06-815d-975e2ea95e80"
      },
      "outputs": [
        {
          "output_type": "stream",
          "name": "stdout",
          "text": [
            "Final DataFrame:\n",
            "                patient_id                first_name    last_name email_id  \\\n",
            "0                T6hb630b3                       Css                         \n",
            "1                T6h33b300                    Lokesh                         \n",
            "2                 TjhB4373                     Shila          Das            \n",
            "3                  6df4R5b                   Bhavika  Ben Panchal            \n",
            "4                 lK9hy06a                Raghu Viju                         \n",
            "5                  kI9d5c6              Dinesh Kumar                         \n",
            "6                 i9R324b7                     Lalit     Sankhwal            \n",
            "7   T6h41b5ad3d8002ad9c3c4                      Ravi                         \n",
            "8                 T9Iy347e                    Dinesh                         \n",
            "9                 Tr4T2173                    Akshay       Akshay            \n",
            "10                  T6Wa50                   Nirmala                         \n",
            "11                 UG67231                Kalaiarasi   Kalaiarasi            \n",
            "12                 T4E7Ge6                   Nivitha                         \n",
            "13                 04Re22d                    Tejpal                         \n",
            "14                u7dWa589                  Nandhini                         \n",
            "15                 TU7e913                  Dhanamma                         \n",
            "16                   u9cd6                    Daniya        Zehra            \n",
            "17                 Pdh97S6                       Jay       Sharma            \n",
            "18               h02U8a781                   Preethi                         \n",
            "19  T6h40a5ad3d8002ad9c06a  VITTHAL SHANKARRAO GHATE                         \n",
            "20   T6h408981ayf32b63bcfa                    Suresh      Gaikwad            \n",
            "21                T6U67af9                 Govardhan                         \n",
            "22                 R53Et5W                Rajeshwari                         \n",
            "23                 TI93Hd5                 Tarachand                         \n",
            "24                 Pdh97S6                       Jay       Sharma            \n",
            "\n",
            "   gender                birth_date   phone_number  active_medicines_count  \n",
            "0                                 0    96686896670                     2.0  \n",
            "1       M  1996-05-16T18:30:00.000Z     9496368916                     2.0  \n",
            "2                                       7787204833                     6.0  \n",
            "3       F  1988-04-24T14:30:00.000Z     9376756879                     1.0  \n",
            "4                                       5267384241                     4.0  \n",
            "5       M  1983-05-16T18:30:00.000Z  +919826374025                     8.0  \n",
            "6       M  2003-06-27T14:30:00.000Z     7587265252                     4.0  \n",
            "7                                       5586958767                     1.0  \n",
            "8       M  1983-05-16T18:30:00.000Z     9987602525                     1.0  \n",
            "9       M  1988-04-08T00:00:00.000Z     4863281056                     0.0  \n",
            "10      F  1971-05-16T18:30:00.000Z     8687986800                     6.0  \n",
            "11      F  1997-07-31T00:00:00.000Z     7152684236                     6.0  \n",
            "12      F  1997-05-16T18:30:00.000Z     9184723620                     9.0  \n",
            "13      M  1972-05-16T18:30:00.000Z                                    4.0  \n",
            "14      F  2001-05-16T18:30:00.000Z     5847346075                     6.0  \n",
            "15      F                               9064537237                    12.0  \n",
            "16      F  2001-08-27T00:00:00.000Z      992727892                     0.0  \n",
            "17      M  1998-11-19T23:30:00.000Z     6888324121                    28.0  \n",
            "18      F  1996-05-16T18:30:00.000Z     8248594521                    12.0  \n",
            "19                                   +917938475936                     9.0  \n",
            "20                                   +916883788633                    12.0  \n",
            "21                                   +916636278363                     0.0  \n",
            "22      F  1999-05-16T18:30:00.000Z     6525356535                     8.0  \n",
            "23      M  1980-03-22T18:30:00.000Z  +919093872282                    16.0  \n",
            "24      M  1991-11-19T23:30:00.000Z  +916888324121                    28.0  \n",
            "\n",
            "Gender Distribution:\n",
            "gender\n",
            "M    9\n",
            "F    9\n",
            "     7\n",
            "Name: count, dtype: int64\n",
            "\n",
            "Patients with No Active Medicines:\n",
            "   patient_id first_name last_name email_id gender                birth_date  \\\n",
            "9    Tr4T2173     Akshay    Akshay               M  1988-04-08T00:00:00.000Z   \n",
            "16      u9cd6     Daniya     Zehra               F  2001-08-27T00:00:00.000Z   \n",
            "21   T6U67af9  Govardhan                                                       \n",
            "\n",
            "     phone_number  active_medicines_count  \n",
            "9      4863281056                     0.0  \n",
            "16      992727892                     0.0  \n",
            "21  +916636278363                     0.0  \n"
          ]
        }
      ],
      "source": [
        "import pandas as pd\n",
        "import json\n",
        "\n",
        "# Load the JSON data\n",
        "with open('/content/DataEngineeringQ2.json') as f:\n",
        "    data = json.load(f)\n",
        "\n",
        "# Extract patient details and medicines\n",
        "patient_details = []\n",
        "medicines_data = []\n",
        "\n",
        "for entry in data:\n",
        "    patient = entry['patientDetails']\n",
        "    consultation = entry['consultationData']\n",
        "\n",
        "    for medicine in consultation.get('medicines', []):\n",
        "        patient_details.append({\n",
        "            'patient_id': patient.get('_id', ''),\n",
        "            'first_name': patient.get('firstName', ''),\n",
        "            'last_name': patient.get('lastName', ''),\n",
        "            'email_id': patient.get('emailId', ''),\n",
        "            'gender': patient.get('gender', ''),\n",
        "            'birth_date': patient.get('birthDate', ''),\n",
        "            'phone_number': entry.get('phoneNumber', '')\n",
        "        })\n",
        "\n",
        "        medicines_data.append({\n",
        "            'patient_id': patient.get('_id', ''),\n",
        "            'medicine_id': medicine.get('medicineId', ''),\n",
        "            'medicine_name': medicine.get('medicineName', ''),\n",
        "            'frequency': medicine.get('frequency', ''),\n",
        "            'duration': medicine.get('duration', ''),\n",
        "            'duration_in': medicine.get('durationIn', ''),\n",
        "            'instruction': medicine.get('instruction', ''),\n",
        "            'is_active': medicine.get('isActive', '')\n",
        "        })\n",
        "\n",
        "# Create dataframes\n",
        "patient_df = pd.DataFrame(patient_details)\n",
        "medicines_df = pd.DataFrame(medicines_data)\n",
        "\n",
        "# Merge dataframes\n",
        "df = pd.merge(patient_df, medicines_df, on='patient_id')\n",
        "\n",
        "# Data transformations and aggregations\n",
        "# Example: Count the number of active medicines for each patient\n",
        "active_medicines_count = df[df['is_active']].groupby('patient_id').size().reset_index(name='active_medicines_count')\n",
        "\n",
        "# Merge with the patient dataframe\n",
        "final_df = pd.merge(patient_df.drop_duplicates(), active_medicines_count, on='patient_id', how='left').fillna(0)\n",
        "\n",
        "# Insights\n",
        "# Example: Gender distribution\n",
        "gender_distribution = final_df['gender'].value_counts()\n",
        "\n",
        "print(\"Final DataFrame:\")\n",
        "print(final_df)\n",
        "print(\"\\nGender Distribution:\")\n",
        "print(gender_distribution)\n",
        "\n",
        "# Validations\n",
        "# Example: Check if there are any patients with no active medicines\n",
        "no_active_medicines = final_df[final_df['active_medicines_count'] == 0]\n",
        "\n",
        "print(\"\\nPatients with No Active Medicines:\")\n",
        "print(no_active_medicines)\n"
      ]
    },
    {
      "cell_type": "code",
      "source": [
        "import pandas as pd\n",
        "import json\n",
        "\n",
        "# Load the JSON data\n",
        "with open('/content/DataEngineeringQ2.json') as f:\n",
        "    data = json.load(f)\n",
        "\n",
        "# Extract patient details and medicines\n",
        "patient_details = []\n",
        "medicines_data = []\n",
        "\n",
        "for entry in data:\n",
        "    patient = entry['patientDetails']\n",
        "    consultation = entry['consultationData']\n",
        "\n",
        "    for medicine in consultation.get('medicines', []):\n",
        "        patient_details.append({\n",
        "            'patient_id': patient.get('_id', ''),\n",
        "            'first_name': patient.get('firstName', ''),\n",
        "            'last_name': patient.get('lastName', ''),\n",
        "            'email_id': patient.get('emailId', ''),\n",
        "            'gender': patient.get('gender', ''),\n",
        "            'birth_date': patient.get('birthDate', ''),\n",
        "            'phone_number': entry.get('phoneNumber', '')\n",
        "        })\n",
        "\n",
        "        medicines_data.append({\n",
        "            'patient_id': patient.get('_id', ''),\n",
        "            'medicine_id': medicine.get('medicineId', ''),\n",
        "            'medicine_name': medicine.get('medicineName', ''),\n",
        "            'frequency': medicine.get('frequency', ''),\n",
        "            'duration': medicine.get('duration', ''),\n",
        "            'duration_in': medicine.get('durationIn', ''),\n",
        "            'instruction': medicine.get('instruction', ''),\n",
        "            'is_active': medicine.get('isActive', '')\n",
        "        })\n",
        "\n",
        "# Create dataframes\n",
        "patient_df = pd.DataFrame(patient_details)\n",
        "medicines_df = pd.DataFrame(medicines_data)\n"
      ],
      "metadata": {
        "id": "icgKMTWuOpTf"
      },
      "execution_count": 36,
      "outputs": []
    },
    {
      "cell_type": "code",
      "source": [
        "\n",
        "\n",
        "import pandas as pd\n",
        "import json\n",
        "\n",
        "# Load the JSON data\n",
        "with open('/content/DataEngineeringQ2.json') as f:\n",
        "    data = json.load(f)\n",
        "\n",
        "# Extract patient details and medicines\n",
        "patient_details = []\n",
        "medicines_data = []\n",
        "\n",
        "for entry in data:\n",
        "    patient = entry['patientDetails']\n",
        "    consultation = entry['consultationData']\n",
        "\n",
        "    for medicine in consultation.get('medicines', []):\n",
        "        patient_details.append({\n",
        "            'patient_id': patient.get('_id', ''),\n",
        "            'first_name': patient.get('firstName', ''),\n",
        "            'last_name': patient.get('lastName', ''),\n",
        "            'email_id': patient.get('emailId', ''),\n",
        "            'gender': patient.get('gender', ''),\n",
        "            'birth_date': patient.get('birthDate', ''),\n",
        "            'phone_number': entry.get('phoneNumber', '')\n",
        "        })\n",
        "\n",
        "        medicines_data.append({\n",
        "            'patient_id': patient.get('_id', ''),\n",
        "            'medicine_id': medicine.get('medicineId', ''),\n",
        "            'medicine_name': medicine.get('medicineName', ''),\n",
        "            'frequency': medicine.get('frequency', ''),\n",
        "            'duration': medicine.get('duration', ''),\n",
        "            'duration_in': medicine.get('durationIn', ''),\n",
        "            'instruction': medicine.get('instruction', ''),\n",
        "            'is_active': medicine.get('isActive', '')\n",
        "        })\n",
        "\n",
        "# Create dataframes\n",
        "patient_df = pd.DataFrame(patient_details)\n",
        "medicines_df = pd.DataFrame(medicines_data)\n",
        "\n",
        "# Calculate percentage of missing values\n",
        "missing_first_name = round((patient_df['first_name'].isnull() | patient_df['first_name'].eq('')).sum() / len(patient_df) * 100, 2)\n",
        "missing_last_name = round((patient_df['last_name'].isnull() | patient_df['last_name'].eq('')).sum() / len(patient_df) * 100, 2)\n",
        "missing_birth_date = round((patient_df['birth_date'].isnull() | patient_df['birth_date'].eq('')).sum() / len(patient_df) * 100, 2)\n",
        "\n",
        "print(\"Percentage of Missing Values:\")\n",
        "print(\"firstName:\", missing_first_name, \"%\")\n",
        "print(\"lastName:\", missing_last_name, \"%\")\n",
        "print(\"birthDate:\", missing_birth_date, \"%\")\n"
      ],
      "metadata": {
        "colab": {
          "base_uri": "https://localhost:8080/"
        },
        "id": "noSYBbO3TPyf",
        "outputId": "9b8f2ac6-12a2-4528-98ea-feafeada2dc3"
      },
      "execution_count": 37,
      "outputs": [
        {
          "output_type": "stream",
          "name": "stdout",
          "text": [
            "Percentage of Missing Values:\n",
            "firstName: 0.0 %\n",
            "lastName: 66.67 %\n",
            "birthDate: 31.82 %\n"
          ]
        }
      ]
    },
    {
      "cell_type": "code",
      "source": [
        "# Fill missing gender values\n",
        "patient_df['gender'] = patient_df['gender'].fillna(patient_df['gender'].mode()[0])\n",
        "\n",
        "# Calculate percentage of female gender\n",
        "female_percentage = round((patient_df['gender'] == 'female').sum() / len(patient_df) * 100, 2)\n",
        "\n",
        "print(\"Percentage of Female Gender After Imputation:\", female_percentage, \"%\")"
      ],
      "metadata": {
        "colab": {
          "base_uri": "https://localhost:8080/"
        },
        "id": "T9VprY4mV4Lh",
        "outputId": "4797dec8-6e89-43cb-ddd2-63761ccf9122"
      },
      "execution_count": 43,
      "outputs": [
        {
          "output_type": "stream",
          "name": "stdout",
          "text": [
            "Percentage of Female Gender After Imputation: 0.0 %\n"
          ]
        }
      ]
    },
    {
      "cell_type": "code",
      "source": [
        " #Calculate the average number of medicines prescribed\n",
        "average_medicines = len(medicines_df) / len(patient_df['patient_id'].unique())\n",
        "\n",
        "print(\"Average Number of Medicines Prescribed:\", average_medicines)\n",
        "# Calculate the frequency of each medicine\n",
        "medicine_counts = medicines_df['medicine_name'].value_counts()\n",
        "\n",
        "# Get the 3rd most frequent medicine\n",
        "third_most_frequent = medicine_counts.index[2] if len(medicine_counts) >= 3 else \"Not enough unique medicines\"\n",
        "\n",
        "print(\"The 3rd most frequently prescribed medicine is:\", third_most_frequent)\n",
        "# Calculate the total number of active and inactive medicines\n",
        "total_active = medicines_df['is_active'].sum()\n",
        "total_inactive = (~medicines_df['is_active']).sum()\n",
        "\n",
        "# Calculate the percentage distribution\n",
        "total_medicines = total_active + total_inactive\n",
        "active_percentage = round((total_active / total_medicines) * 100, 3)\n",
        "inactive_percentage = round((total_inactive / total_medicines) * 100, 3)\n",
        "\n",
        "print(\"Percentage Distribution of Active and Inactive Medicines:\")\n",
        "print(\"Active Medicines:\", active_percentage, \"%\")\n",
        "print(\"Inactive Medicines:\", inactive_percentage, \"%\")\n"
      ],
      "metadata": {
        "colab": {
          "base_uri": "https://localhost:8080/"
        },
        "id": "dCWs9yoyWx5o",
        "outputId": "5ada613c-358d-4195-ec1c-43e2b70fea92"
      },
      "execution_count": 49,
      "outputs": [
        {
          "output_type": "stream",
          "name": "stdout",
          "text": [
            "Average Number of Medicines Prescribed: 2.75\n",
            "The 3rd most frequently prescribed medicine is: C\n",
            "Percentage Distribution of Active and Inactive Medicines:\n",
            "Active Medicines: 69.697 %\n",
            "Inactive Medicines: 30.303 %\n"
          ]
        }
      ]
    },
    {
      "cell_type": "code",
      "source": [
        "# Calculate the frequency of each medicine\n",
        "medicine_counts = medicines_df['medicine_name'].value_counts()\n",
        "\n",
        "# Get the 3rd most frequent medicine\n",
        "third_most_frequent = medicine_counts.index[2] if len(medicine_counts) >= 3 else \"Not enough unique medicines\"\n",
        "\n",
        "print(\"The 3rd most frequently prescribed medicine is:\", third_most_frequent)\n"
      ],
      "metadata": {
        "colab": {
          "base_uri": "https://localhost:8080/"
        },
        "id": "0HbCj0JvXgoz",
        "outputId": "2f50ca0c-e271-4119-8c7c-7cc50db1b33b"
      },
      "execution_count": 40,
      "outputs": [
        {
          "output_type": "stream",
          "name": "stdout",
          "text": [
            "The 3rd most frequently prescribed medicine is: C\n"
          ]
        }
      ]
    },
    {
      "cell_type": "code",
      "source": [
        "# Calculate the total number of active and inactive medicines\n",
        "total_active = medicines_df['is_active'].sum()\n",
        "total_inactive = (~medicines_df['is_active']).sum()\n",
        "\n",
        "# Calculate the percentage distribution\n",
        "total_medicines = total_active + total_inactive\n",
        "active_percentage = round((total_active / total_medicines) * 100, 2)\n",
        "inactive_percentage = round((total_inactive / total_medicines) * 100, 2)\n",
        "\n",
        "print(\"Percentage Distribution of Active and Inactive Medicines:\")\n",
        "print(\"Active Medicines:\", active_percentage, \"%\")\n",
        "print(\"Inactive Medicines:\", inactive_percentage, \"%\")\n"
      ],
      "metadata": {
        "colab": {
          "base_uri": "https://localhost:8080/"
        },
        "id": "9JpKihf_X9Dg",
        "outputId": "0fe0125e-bccb-421b-a690-c2aa9d75314c"
      },
      "execution_count": 41,
      "outputs": [
        {
          "output_type": "stream",
          "name": "stdout",
          "text": [
            "Percentage Distribution of Active and Inactive Medicines:\n",
            "Active Medicines: 69.7 %\n",
            "Inactive Medicines: 30.3 %\n"
          ]
        }
      ]
    },
    {
      "cell_type": "code",
      "source": [
        "import pandas as pd\n",
        "import json\n",
        "from datetime import datetime\n",
        "\n",
        "# Load the JSON data\n",
        "with open('/content/DataEngineeringQ2.json') as f:\n",
        "    data = json.load(f)\n",
        "\n",
        "# Extract patient details and medicines\n",
        "patient_details = []\n",
        "medicines_data = []\n",
        "\n",
        "for entry in data:\n",
        "    patient = entry['patientDetails']\n",
        "    consultation = entry['consultationData']\n",
        "\n",
        "    for medicine in consultation.get('medicines', []):\n",
        "        patient_details.append({\n",
        "            'patient_id': patient.get('_id', ''),\n",
        "            'first_name': patient.get('firstName', ''),\n",
        "            'last_name': patient.get('lastName', ''),\n",
        "            'email_id': patient.get('emailId', ''),\n",
        "            'gender': patient.get('gender', ''),\n",
        "            'birth_date': patient.get('birthDate', ''),\n",
        "            'phone_number': entry.get('phoneNumber', '')\n",
        "        })\n",
        "\n",
        "        medicines_data.append({\n",
        "            'patient_id': patient.get('_id', ''),\n",
        "            'medicine_id': medicine.get('medicineId', ''),\n",
        "            'medicine_name': medicine.get('medicineName', ''),\n",
        "            'frequency': medicine.get('frequency', ''),\n",
        "            'duration': medicine.get('duration', ''),\n",
        "            'duration_in': medicine.get('durationIn', ''),\n",
        "            'instruction': medicine.get('instruction', ''),\n",
        "            'is_active': medicine.get('isActive', '')\n",
        "        })\n",
        "\n",
        "# Create dataframes\n",
        "patient_df = pd.DataFrame(patient_details)\n",
        "medicines_df = pd.DataFrame(medicines_data)\n",
        "\n",
        "# Calculate age and create age group column\n",
        "def calculate_age_group(birth_date_str):\n",
        "  if not birth_date_str:\n",
        "    return \"Unknown\"\n",
        "  birth_date = datetime.strptime(birth_date_str, '%Y-%m-%d')\n",
        "  today = datetime.today()\n",
        "  age = today.year - birth_date.year - ((today.month, today.day) < (birth_date.month, birth_date.day))\n",
        "  if age <= 12:\n",
        "    return \"Child\"\n",
        "  elif 13 <= age <= 19:\n",
        "    return \"Teen\"\n",
        "  elif 20 <= age <= 59:\n",
        "    return \"Adult\"\n",
        "  else:\n",
        "    return \"Senior\"\n",
        "\n",
        "patient_df['ageGroup'] = patient_df['birth_date'].apply(calculate_age_group)\n",
        "\n",
        "# Count of adults\n",
        "adult_count = patient_df[patient_df['ageGroup'] == 'Adult']['ageGroup'].count()\n",
        "\n",
        "print(\"Count of Adults:\", adult_count)\n"
      ],
      "metadata": {
        "colab": {
          "base_uri": "https://localhost:8080/",
          "height": 356
        },
        "id": "Dh7BeneSZcbZ",
        "outputId": "e8ad365f-6a0e-4da4-d3b4-50d5ba8bf155"
      },
      "execution_count": 42,
      "outputs": [
        {
          "output_type": "error",
          "ename": "ValueError",
          "evalue": "unconverted data remains: T18:30:00.000Z",
          "traceback": [
            "\u001b[0;31m---------------------------------------------------------------------------\u001b[0m",
            "\u001b[0;31mValueError\u001b[0m                                Traceback (most recent call last)",
            "\u001b[0;32m<ipython-input-42-399b9fe232df>\u001b[0m in \u001b[0;36m<cell line: 59>\u001b[0;34m()\u001b[0m\n\u001b[1;32m     57\u001b[0m     \u001b[0;32mreturn\u001b[0m \u001b[0;34m\"Senior\"\u001b[0m\u001b[0;34m\u001b[0m\u001b[0;34m\u001b[0m\u001b[0m\n\u001b[1;32m     58\u001b[0m \u001b[0;34m\u001b[0m\u001b[0m\n\u001b[0;32m---> 59\u001b[0;31m \u001b[0mpatient_df\u001b[0m\u001b[0;34m[\u001b[0m\u001b[0;34m'ageGroup'\u001b[0m\u001b[0;34m]\u001b[0m \u001b[0;34m=\u001b[0m \u001b[0mpatient_df\u001b[0m\u001b[0;34m[\u001b[0m\u001b[0;34m'birth_date'\u001b[0m\u001b[0;34m]\u001b[0m\u001b[0;34m.\u001b[0m\u001b[0mapply\u001b[0m\u001b[0;34m(\u001b[0m\u001b[0mcalculate_age_group\u001b[0m\u001b[0;34m)\u001b[0m\u001b[0;34m\u001b[0m\u001b[0;34m\u001b[0m\u001b[0m\n\u001b[0m\u001b[1;32m     60\u001b[0m \u001b[0;34m\u001b[0m\u001b[0m\n\u001b[1;32m     61\u001b[0m \u001b[0;31m# Count of adults\u001b[0m\u001b[0;34m\u001b[0m\u001b[0;34m\u001b[0m\u001b[0m\n",
            "\u001b[0;32m/usr/local/lib/python3.10/dist-packages/pandas/core/series.py\u001b[0m in \u001b[0;36mapply\u001b[0;34m(self, func, convert_dtype, args, **kwargs)\u001b[0m\n\u001b[1;32m   4628\u001b[0m         \u001b[0mdtype\u001b[0m\u001b[0;34m:\u001b[0m \u001b[0mfloat64\u001b[0m\u001b[0;34m\u001b[0m\u001b[0;34m\u001b[0m\u001b[0m\n\u001b[1;32m   4629\u001b[0m         \"\"\"\n\u001b[0;32m-> 4630\u001b[0;31m         \u001b[0;32mreturn\u001b[0m \u001b[0mSeriesApply\u001b[0m\u001b[0;34m(\u001b[0m\u001b[0mself\u001b[0m\u001b[0;34m,\u001b[0m \u001b[0mfunc\u001b[0m\u001b[0;34m,\u001b[0m \u001b[0mconvert_dtype\u001b[0m\u001b[0;34m,\u001b[0m \u001b[0margs\u001b[0m\u001b[0;34m,\u001b[0m \u001b[0mkwargs\u001b[0m\u001b[0;34m)\u001b[0m\u001b[0;34m.\u001b[0m\u001b[0mapply\u001b[0m\u001b[0;34m(\u001b[0m\u001b[0;34m)\u001b[0m\u001b[0;34m\u001b[0m\u001b[0;34m\u001b[0m\u001b[0m\n\u001b[0m\u001b[1;32m   4631\u001b[0m \u001b[0;34m\u001b[0m\u001b[0m\n\u001b[1;32m   4632\u001b[0m     def _reduce(\n",
            "\u001b[0;32m/usr/local/lib/python3.10/dist-packages/pandas/core/apply.py\u001b[0m in \u001b[0;36mapply\u001b[0;34m(self)\u001b[0m\n\u001b[1;32m   1023\u001b[0m \u001b[0;34m\u001b[0m\u001b[0m\n\u001b[1;32m   1024\u001b[0m         \u001b[0;31m# self.f is Callable\u001b[0m\u001b[0;34m\u001b[0m\u001b[0;34m\u001b[0m\u001b[0m\n\u001b[0;32m-> 1025\u001b[0;31m         \u001b[0;32mreturn\u001b[0m \u001b[0mself\u001b[0m\u001b[0;34m.\u001b[0m\u001b[0mapply_standard\u001b[0m\u001b[0;34m(\u001b[0m\u001b[0;34m)\u001b[0m\u001b[0;34m\u001b[0m\u001b[0;34m\u001b[0m\u001b[0m\n\u001b[0m\u001b[1;32m   1026\u001b[0m \u001b[0;34m\u001b[0m\u001b[0m\n\u001b[1;32m   1027\u001b[0m     \u001b[0;32mdef\u001b[0m \u001b[0magg\u001b[0m\u001b[0;34m(\u001b[0m\u001b[0mself\u001b[0m\u001b[0;34m)\u001b[0m\u001b[0;34m:\u001b[0m\u001b[0;34m\u001b[0m\u001b[0;34m\u001b[0m\u001b[0m\n",
            "\u001b[0;32m/usr/local/lib/python3.10/dist-packages/pandas/core/apply.py\u001b[0m in \u001b[0;36mapply_standard\u001b[0;34m(self)\u001b[0m\n\u001b[1;32m   1074\u001b[0m             \u001b[0;32melse\u001b[0m\u001b[0;34m:\u001b[0m\u001b[0;34m\u001b[0m\u001b[0;34m\u001b[0m\u001b[0m\n\u001b[1;32m   1075\u001b[0m                 \u001b[0mvalues\u001b[0m \u001b[0;34m=\u001b[0m \u001b[0mobj\u001b[0m\u001b[0;34m.\u001b[0m\u001b[0mastype\u001b[0m\u001b[0;34m(\u001b[0m\u001b[0mobject\u001b[0m\u001b[0;34m)\u001b[0m\u001b[0;34m.\u001b[0m\u001b[0m_values\u001b[0m\u001b[0;34m\u001b[0m\u001b[0;34m\u001b[0m\u001b[0m\n\u001b[0;32m-> 1076\u001b[0;31m                 mapped = lib.map_infer(\n\u001b[0m\u001b[1;32m   1077\u001b[0m                     \u001b[0mvalues\u001b[0m\u001b[0;34m,\u001b[0m\u001b[0;34m\u001b[0m\u001b[0;34m\u001b[0m\u001b[0m\n\u001b[1;32m   1078\u001b[0m                     \u001b[0mf\u001b[0m\u001b[0;34m,\u001b[0m\u001b[0;34m\u001b[0m\u001b[0;34m\u001b[0m\u001b[0m\n",
            "\u001b[0;32m/usr/local/lib/python3.10/dist-packages/pandas/_libs/lib.pyx\u001b[0m in \u001b[0;36mpandas._libs.lib.map_infer\u001b[0;34m()\u001b[0m\n",
            "\u001b[0;32m<ipython-input-42-399b9fe232df>\u001b[0m in \u001b[0;36mcalculate_age_group\u001b[0;34m(birth_date_str)\u001b[0m\n\u001b[1;32m     45\u001b[0m   \u001b[0;32mif\u001b[0m \u001b[0;32mnot\u001b[0m \u001b[0mbirth_date_str\u001b[0m\u001b[0;34m:\u001b[0m\u001b[0;34m\u001b[0m\u001b[0;34m\u001b[0m\u001b[0m\n\u001b[1;32m     46\u001b[0m     \u001b[0;32mreturn\u001b[0m \u001b[0;34m\"Unknown\"\u001b[0m\u001b[0;34m\u001b[0m\u001b[0;34m\u001b[0m\u001b[0m\n\u001b[0;32m---> 47\u001b[0;31m   \u001b[0mbirth_date\u001b[0m \u001b[0;34m=\u001b[0m \u001b[0mdatetime\u001b[0m\u001b[0;34m.\u001b[0m\u001b[0mstrptime\u001b[0m\u001b[0;34m(\u001b[0m\u001b[0mbirth_date_str\u001b[0m\u001b[0;34m,\u001b[0m \u001b[0;34m'%Y-%m-%d'\u001b[0m\u001b[0;34m)\u001b[0m\u001b[0;34m\u001b[0m\u001b[0;34m\u001b[0m\u001b[0m\n\u001b[0m\u001b[1;32m     48\u001b[0m   \u001b[0mtoday\u001b[0m \u001b[0;34m=\u001b[0m \u001b[0mdatetime\u001b[0m\u001b[0;34m.\u001b[0m\u001b[0mtoday\u001b[0m\u001b[0;34m(\u001b[0m\u001b[0;34m)\u001b[0m\u001b[0;34m\u001b[0m\u001b[0;34m\u001b[0m\u001b[0m\n\u001b[1;32m     49\u001b[0m   \u001b[0mage\u001b[0m \u001b[0;34m=\u001b[0m \u001b[0mtoday\u001b[0m\u001b[0;34m.\u001b[0m\u001b[0myear\u001b[0m \u001b[0;34m-\u001b[0m \u001b[0mbirth_date\u001b[0m\u001b[0;34m.\u001b[0m\u001b[0myear\u001b[0m \u001b[0;34m-\u001b[0m \u001b[0;34m(\u001b[0m\u001b[0;34m(\u001b[0m\u001b[0mtoday\u001b[0m\u001b[0;34m.\u001b[0m\u001b[0mmonth\u001b[0m\u001b[0;34m,\u001b[0m \u001b[0mtoday\u001b[0m\u001b[0;34m.\u001b[0m\u001b[0mday\u001b[0m\u001b[0;34m)\u001b[0m \u001b[0;34m<\u001b[0m \u001b[0;34m(\u001b[0m\u001b[0mbirth_date\u001b[0m\u001b[0;34m.\u001b[0m\u001b[0mmonth\u001b[0m\u001b[0;34m,\u001b[0m \u001b[0mbirth_date\u001b[0m\u001b[0;34m.\u001b[0m\u001b[0mday\u001b[0m\u001b[0;34m)\u001b[0m\u001b[0;34m)\u001b[0m\u001b[0;34m\u001b[0m\u001b[0;34m\u001b[0m\u001b[0m\n",
            "\u001b[0;32m/usr/lib/python3.10/_strptime.py\u001b[0m in \u001b[0;36m_strptime_datetime\u001b[0;34m(cls, data_string, format)\u001b[0m\n\u001b[1;32m    566\u001b[0m     \"\"\"Return a class cls instance based on the input string and the\n\u001b[1;32m    567\u001b[0m     format string.\"\"\"\n\u001b[0;32m--> 568\u001b[0;31m     \u001b[0mtt\u001b[0m\u001b[0;34m,\u001b[0m \u001b[0mfraction\u001b[0m\u001b[0;34m,\u001b[0m \u001b[0mgmtoff_fraction\u001b[0m \u001b[0;34m=\u001b[0m \u001b[0m_strptime\u001b[0m\u001b[0;34m(\u001b[0m\u001b[0mdata_string\u001b[0m\u001b[0;34m,\u001b[0m \u001b[0mformat\u001b[0m\u001b[0;34m)\u001b[0m\u001b[0;34m\u001b[0m\u001b[0;34m\u001b[0m\u001b[0m\n\u001b[0m\u001b[1;32m    569\u001b[0m     \u001b[0mtzname\u001b[0m\u001b[0;34m,\u001b[0m \u001b[0mgmtoff\u001b[0m \u001b[0;34m=\u001b[0m \u001b[0mtt\u001b[0m\u001b[0;34m[\u001b[0m\u001b[0;34m-\u001b[0m\u001b[0;36m2\u001b[0m\u001b[0;34m:\u001b[0m\u001b[0;34m]\u001b[0m\u001b[0;34m\u001b[0m\u001b[0;34m\u001b[0m\u001b[0m\n\u001b[1;32m    570\u001b[0m     \u001b[0margs\u001b[0m \u001b[0;34m=\u001b[0m \u001b[0mtt\u001b[0m\u001b[0;34m[\u001b[0m\u001b[0;34m:\u001b[0m\u001b[0;36m6\u001b[0m\u001b[0;34m]\u001b[0m \u001b[0;34m+\u001b[0m \u001b[0;34m(\u001b[0m\u001b[0mfraction\u001b[0m\u001b[0;34m,\u001b[0m\u001b[0;34m)\u001b[0m\u001b[0;34m\u001b[0m\u001b[0;34m\u001b[0m\u001b[0m\n",
            "\u001b[0;32m/usr/lib/python3.10/_strptime.py\u001b[0m in \u001b[0;36m_strptime\u001b[0;34m(data_string, format)\u001b[0m\n\u001b[1;32m    350\u001b[0m                          (data_string, format))\n\u001b[1;32m    351\u001b[0m     \u001b[0;32mif\u001b[0m \u001b[0mlen\u001b[0m\u001b[0;34m(\u001b[0m\u001b[0mdata_string\u001b[0m\u001b[0;34m)\u001b[0m \u001b[0;34m!=\u001b[0m \u001b[0mfound\u001b[0m\u001b[0;34m.\u001b[0m\u001b[0mend\u001b[0m\u001b[0;34m(\u001b[0m\u001b[0;34m)\u001b[0m\u001b[0;34m:\u001b[0m\u001b[0;34m\u001b[0m\u001b[0;34m\u001b[0m\u001b[0m\n\u001b[0;32m--> 352\u001b[0;31m         raise ValueError(\"unconverted data remains: %s\" %\n\u001b[0m\u001b[1;32m    353\u001b[0m                           data_string[found.end():])\n\u001b[1;32m    354\u001b[0m \u001b[0;34m\u001b[0m\u001b[0m\n",
            "\u001b[0;31mValueError\u001b[0m: unconverted data remains: T18:30:00.000Z"
          ]
        }
      ]
    },
    {
      "cell_type": "code",
      "source": [
        "# Calculate age from birth_date\n",
        "def calculate_age(birth_date_str):\n",
        "  if not birth_date_str:\n",
        "    return None\n",
        "  birth_date = datetime.strptime(birth_date_str, '%Y-%m-%d')\n",
        "  today = datetime.today()\n",
        "  return today.year - birth_date.year - ((today.month, today.day) < (birth_date.month, birth_date.day))\n",
        "\n",
        "patient_df['age'] = patient_df['birth_date'].apply(calculate_age)\n",
        "\n",
        "# Count medicines per patient\n",
        "medicines_per_patient = medicines_df.groupby('patient_id').size().reset_index(name='num_medicines')\n",
        "\n",
        "# Merge to get age and number of medicines in one dataframe\n",
        "patient_medicines = pd.merge(patient_df, medicines_per_patient, on='patient_id', how='left')\n",
        "\n",
        "# Calculate Pearson correlation\n",
        "correlation = patient_medicines['age'].corr(patient_medicines['num_medicines'], method='pearson')\n",
        "\n",
        "# Print rounded correlation\n",
        "print(round(correlation, 2))\n"
      ],
      "metadata": {
        "colab": {
          "base_uri": "https://localhost:8080/",
          "height": 1000
        },
        "id": "CJzlaQsncALZ",
        "outputId": "f62edab0-a587-4489-df89-f9df11ff5a4b"
      },
      "execution_count": 48,
      "outputs": [
        {
          "output_type": "error",
          "ename": "ValueError",
          "evalue": "unconverted data remains: T18:30:00.000Z",
          "traceback": [
            "\u001b[0;31m---------------------------------------------------------------------------\u001b[0m",
            "\u001b[0;31mValueError\u001b[0m                                Traceback (most recent call last)",
            "\u001b[0;32m<ipython-input-48-dc56f3bfbfb1>\u001b[0m in \u001b[0;36m<cell line: 9>\u001b[0;34m()\u001b[0m\n\u001b[1;32m      7\u001b[0m   \u001b[0;32mreturn\u001b[0m \u001b[0mtoday\u001b[0m\u001b[0;34m.\u001b[0m\u001b[0myear\u001b[0m \u001b[0;34m-\u001b[0m \u001b[0mbirth_date\u001b[0m\u001b[0;34m.\u001b[0m\u001b[0myear\u001b[0m \u001b[0;34m-\u001b[0m \u001b[0;34m(\u001b[0m\u001b[0;34m(\u001b[0m\u001b[0mtoday\u001b[0m\u001b[0;34m.\u001b[0m\u001b[0mmonth\u001b[0m\u001b[0;34m,\u001b[0m \u001b[0mtoday\u001b[0m\u001b[0;34m.\u001b[0m\u001b[0mday\u001b[0m\u001b[0;34m)\u001b[0m \u001b[0;34m<\u001b[0m \u001b[0;34m(\u001b[0m\u001b[0mbirth_date\u001b[0m\u001b[0;34m.\u001b[0m\u001b[0mmonth\u001b[0m\u001b[0;34m,\u001b[0m \u001b[0mbirth_date\u001b[0m\u001b[0;34m.\u001b[0m\u001b[0mday\u001b[0m\u001b[0;34m)\u001b[0m\u001b[0;34m)\u001b[0m\u001b[0;34m\u001b[0m\u001b[0;34m\u001b[0m\u001b[0m\n\u001b[1;32m      8\u001b[0m \u001b[0;34m\u001b[0m\u001b[0m\n\u001b[0;32m----> 9\u001b[0;31m \u001b[0mpatient_df\u001b[0m\u001b[0;34m[\u001b[0m\u001b[0;34m'age'\u001b[0m\u001b[0;34m]\u001b[0m \u001b[0;34m=\u001b[0m \u001b[0mpatient_df\u001b[0m\u001b[0;34m[\u001b[0m\u001b[0;34m'birth_date'\u001b[0m\u001b[0;34m]\u001b[0m\u001b[0;34m.\u001b[0m\u001b[0mapply\u001b[0m\u001b[0;34m(\u001b[0m\u001b[0mcalculate_age\u001b[0m\u001b[0;34m)\u001b[0m\u001b[0;34m\u001b[0m\u001b[0;34m\u001b[0m\u001b[0m\n\u001b[0m\u001b[1;32m     10\u001b[0m \u001b[0;34m\u001b[0m\u001b[0m\n\u001b[1;32m     11\u001b[0m \u001b[0;31m# Count medicines per patient\u001b[0m\u001b[0;34m\u001b[0m\u001b[0;34m\u001b[0m\u001b[0m\n",
            "\u001b[0;32m/usr/local/lib/python3.10/dist-packages/pandas/core/series.py\u001b[0m in \u001b[0;36mapply\u001b[0;34m(self, func, convert_dtype, args, **kwargs)\u001b[0m\n\u001b[1;32m   4628\u001b[0m         \u001b[0mdtype\u001b[0m\u001b[0;34m:\u001b[0m \u001b[0mfloat64\u001b[0m\u001b[0;34m\u001b[0m\u001b[0;34m\u001b[0m\u001b[0m\n\u001b[1;32m   4629\u001b[0m         \"\"\"\n\u001b[0;32m-> 4630\u001b[0;31m         \u001b[0;32mreturn\u001b[0m \u001b[0mSeriesApply\u001b[0m\u001b[0;34m(\u001b[0m\u001b[0mself\u001b[0m\u001b[0;34m,\u001b[0m \u001b[0mfunc\u001b[0m\u001b[0;34m,\u001b[0m \u001b[0mconvert_dtype\u001b[0m\u001b[0;34m,\u001b[0m \u001b[0margs\u001b[0m\u001b[0;34m,\u001b[0m \u001b[0mkwargs\u001b[0m\u001b[0;34m)\u001b[0m\u001b[0;34m.\u001b[0m\u001b[0mapply\u001b[0m\u001b[0;34m(\u001b[0m\u001b[0;34m)\u001b[0m\u001b[0;34m\u001b[0m\u001b[0;34m\u001b[0m\u001b[0m\n\u001b[0m\u001b[1;32m   4631\u001b[0m \u001b[0;34m\u001b[0m\u001b[0m\n\u001b[1;32m   4632\u001b[0m     def _reduce(\n",
            "\u001b[0;32m/usr/local/lib/python3.10/dist-packages/pandas/core/apply.py\u001b[0m in \u001b[0;36mapply\u001b[0;34m(self)\u001b[0m\n\u001b[1;32m   1023\u001b[0m \u001b[0;34m\u001b[0m\u001b[0m\n\u001b[1;32m   1024\u001b[0m         \u001b[0;31m# self.f is Callable\u001b[0m\u001b[0;34m\u001b[0m\u001b[0;34m\u001b[0m\u001b[0m\n\u001b[0;32m-> 1025\u001b[0;31m         \u001b[0;32mreturn\u001b[0m \u001b[0mself\u001b[0m\u001b[0;34m.\u001b[0m\u001b[0mapply_standard\u001b[0m\u001b[0;34m(\u001b[0m\u001b[0;34m)\u001b[0m\u001b[0;34m\u001b[0m\u001b[0;34m\u001b[0m\u001b[0m\n\u001b[0m\u001b[1;32m   1026\u001b[0m \u001b[0;34m\u001b[0m\u001b[0m\n\u001b[1;32m   1027\u001b[0m     \u001b[0;32mdef\u001b[0m \u001b[0magg\u001b[0m\u001b[0;34m(\u001b[0m\u001b[0mself\u001b[0m\u001b[0;34m)\u001b[0m\u001b[0;34m:\u001b[0m\u001b[0;34m\u001b[0m\u001b[0;34m\u001b[0m\u001b[0m\n",
            "\u001b[0;32m/usr/local/lib/python3.10/dist-packages/pandas/core/apply.py\u001b[0m in \u001b[0;36mapply_standard\u001b[0;34m(self)\u001b[0m\n\u001b[1;32m   1074\u001b[0m             \u001b[0;32melse\u001b[0m\u001b[0;34m:\u001b[0m\u001b[0;34m\u001b[0m\u001b[0;34m\u001b[0m\u001b[0m\n\u001b[1;32m   1075\u001b[0m                 \u001b[0mvalues\u001b[0m \u001b[0;34m=\u001b[0m \u001b[0mobj\u001b[0m\u001b[0;34m.\u001b[0m\u001b[0mastype\u001b[0m\u001b[0;34m(\u001b[0m\u001b[0mobject\u001b[0m\u001b[0;34m)\u001b[0m\u001b[0;34m.\u001b[0m\u001b[0m_values\u001b[0m\u001b[0;34m\u001b[0m\u001b[0;34m\u001b[0m\u001b[0m\n\u001b[0;32m-> 1076\u001b[0;31m                 mapped = lib.map_infer(\n\u001b[0m\u001b[1;32m   1077\u001b[0m                     \u001b[0mvalues\u001b[0m\u001b[0;34m,\u001b[0m\u001b[0;34m\u001b[0m\u001b[0;34m\u001b[0m\u001b[0m\n\u001b[1;32m   1078\u001b[0m                     \u001b[0mf\u001b[0m\u001b[0;34m,\u001b[0m\u001b[0;34m\u001b[0m\u001b[0;34m\u001b[0m\u001b[0m\n",
            "\u001b[0;32m/usr/local/lib/python3.10/dist-packages/pandas/_libs/lib.pyx\u001b[0m in \u001b[0;36mpandas._libs.lib.map_infer\u001b[0;34m()\u001b[0m\n",
            "\u001b[0;32m<ipython-input-48-dc56f3bfbfb1>\u001b[0m in \u001b[0;36mcalculate_age\u001b[0;34m(birth_date_str)\u001b[0m\n\u001b[1;32m      3\u001b[0m   \u001b[0;32mif\u001b[0m \u001b[0;32mnot\u001b[0m \u001b[0mbirth_date_str\u001b[0m\u001b[0;34m:\u001b[0m\u001b[0;34m\u001b[0m\u001b[0;34m\u001b[0m\u001b[0m\n\u001b[1;32m      4\u001b[0m     \u001b[0;32mreturn\u001b[0m \u001b[0;32mNone\u001b[0m\u001b[0;34m\u001b[0m\u001b[0;34m\u001b[0m\u001b[0m\n\u001b[0;32m----> 5\u001b[0;31m   \u001b[0mbirth_date\u001b[0m \u001b[0;34m=\u001b[0m \u001b[0mdatetime\u001b[0m\u001b[0;34m.\u001b[0m\u001b[0mstrptime\u001b[0m\u001b[0;34m(\u001b[0m\u001b[0mbirth_date_str\u001b[0m\u001b[0;34m,\u001b[0m \u001b[0;34m'%Y-%m-%d'\u001b[0m\u001b[0;34m)\u001b[0m\u001b[0;34m\u001b[0m\u001b[0;34m\u001b[0m\u001b[0m\n\u001b[0m\u001b[1;32m      6\u001b[0m   \u001b[0mtoday\u001b[0m \u001b[0;34m=\u001b[0m \u001b[0mdatetime\u001b[0m\u001b[0;34m.\u001b[0m\u001b[0mtoday\u001b[0m\u001b[0;34m(\u001b[0m\u001b[0;34m)\u001b[0m\u001b[0;34m\u001b[0m\u001b[0;34m\u001b[0m\u001b[0m\n\u001b[1;32m      7\u001b[0m   \u001b[0;32mreturn\u001b[0m \u001b[0mtoday\u001b[0m\u001b[0;34m.\u001b[0m\u001b[0myear\u001b[0m \u001b[0;34m-\u001b[0m \u001b[0mbirth_date\u001b[0m\u001b[0;34m.\u001b[0m\u001b[0myear\u001b[0m \u001b[0;34m-\u001b[0m \u001b[0;34m(\u001b[0m\u001b[0;34m(\u001b[0m\u001b[0mtoday\u001b[0m\u001b[0;34m.\u001b[0m\u001b[0mmonth\u001b[0m\u001b[0;34m,\u001b[0m \u001b[0mtoday\u001b[0m\u001b[0;34m.\u001b[0m\u001b[0mday\u001b[0m\u001b[0;34m)\u001b[0m \u001b[0;34m<\u001b[0m \u001b[0;34m(\u001b[0m\u001b[0mbirth_date\u001b[0m\u001b[0;34m.\u001b[0m\u001b[0mmonth\u001b[0m\u001b[0;34m,\u001b[0m \u001b[0mbirth_date\u001b[0m\u001b[0;34m.\u001b[0m\u001b[0mday\u001b[0m\u001b[0;34m)\u001b[0m\u001b[0;34m)\u001b[0m\u001b[0;34m\u001b[0m\u001b[0;34m\u001b[0m\u001b[0m\n",
            "\u001b[0;32m/usr/lib/python3.10/_strptime.py\u001b[0m in \u001b[0;36m_strptime_datetime\u001b[0;34m(cls, data_string, format)\u001b[0m\n\u001b[1;32m    566\u001b[0m     \"\"\"Return a class cls instance based on the input string and the\n\u001b[1;32m    567\u001b[0m     format string.\"\"\"\n\u001b[0;32m--> 568\u001b[0;31m     \u001b[0mtt\u001b[0m\u001b[0;34m,\u001b[0m \u001b[0mfraction\u001b[0m\u001b[0;34m,\u001b[0m \u001b[0mgmtoff_fraction\u001b[0m \u001b[0;34m=\u001b[0m \u001b[0m_strptime\u001b[0m\u001b[0;34m(\u001b[0m\u001b[0mdata_string\u001b[0m\u001b[0;34m,\u001b[0m \u001b[0mformat\u001b[0m\u001b[0;34m)\u001b[0m\u001b[0;34m\u001b[0m\u001b[0;34m\u001b[0m\u001b[0m\n\u001b[0m\u001b[1;32m    569\u001b[0m     \u001b[0mtzname\u001b[0m\u001b[0;34m,\u001b[0m \u001b[0mgmtoff\u001b[0m \u001b[0;34m=\u001b[0m \u001b[0mtt\u001b[0m\u001b[0;34m[\u001b[0m\u001b[0;34m-\u001b[0m\u001b[0;36m2\u001b[0m\u001b[0;34m:\u001b[0m\u001b[0;34m]\u001b[0m\u001b[0;34m\u001b[0m\u001b[0;34m\u001b[0m\u001b[0m\n\u001b[1;32m    570\u001b[0m     \u001b[0margs\u001b[0m \u001b[0;34m=\u001b[0m \u001b[0mtt\u001b[0m\u001b[0;34m[\u001b[0m\u001b[0;34m:\u001b[0m\u001b[0;36m6\u001b[0m\u001b[0;34m]\u001b[0m \u001b[0;34m+\u001b[0m \u001b[0;34m(\u001b[0m\u001b[0mfraction\u001b[0m\u001b[0;34m,\u001b[0m\u001b[0;34m)\u001b[0m\u001b[0;34m\u001b[0m\u001b[0;34m\u001b[0m\u001b[0m\n",
            "\u001b[0;32m/usr/lib/python3.10/_strptime.py\u001b[0m in \u001b[0;36m_strptime\u001b[0;34m(data_string, format)\u001b[0m\n\u001b[1;32m    350\u001b[0m                          (data_string, format))\n\u001b[1;32m    351\u001b[0m     \u001b[0;32mif\u001b[0m \u001b[0mlen\u001b[0m\u001b[0;34m(\u001b[0m\u001b[0mdata_string\u001b[0m\u001b[0;34m)\u001b[0m \u001b[0;34m!=\u001b[0m \u001b[0mfound\u001b[0m\u001b[0;34m.\u001b[0m\u001b[0mend\u001b[0m\u001b[0;34m(\u001b[0m\u001b[0;34m)\u001b[0m\u001b[0;34m:\u001b[0m\u001b[0;34m\u001b[0m\u001b[0;34m\u001b[0m\u001b[0m\n\u001b[0;32m--> 352\u001b[0;31m         raise ValueError(\"unconverted data remains: %s\" %\n\u001b[0m\u001b[1;32m    353\u001b[0m                           data_string[found.end():])\n\u001b[1;32m    354\u001b[0m \u001b[0;34m\u001b[0m\u001b[0m\n",
            "\u001b[0;31mValueError\u001b[0m: unconverted data remains: T18:30:00.000Z"
          ]
        }
      ]
    },
    {
      "cell_type": "code",
      "source": [
        "def is_valid_indian_number(phone_number):\n",
        "  \"\"\"\n",
        "  Checks if a phone number is a valid Indian phone number.\n",
        "\n",
        "  Args:\n",
        "    phone_number: The phone number to validate.\n",
        "\n",
        "  Returns:\n",
        "    True if the phone number is valid, False otherwise.\n",
        "  \"\"\"\n",
        "  if not phone_number:\n",
        "    return False\n",
        "  if not phone_number.startswith(\"+91\"):\n",
        "    return False\n",
        "  if len(phone_number) != 13:\n",
        "    return False\n",
        "  if not phone_number[3:].isdigit():\n",
        "    return False\n",
        "  return True\n",
        "\n",
        "# Apply the validation function to create the 'isValidMobile' column\n",
        "patient_df['isValidMobile'] = patient_df['phone_number'].apply(is_valid_indian_number)\n",
        "\n",
        "# Display the updated DataFrame\n",
        "print(patient_df)"
      ],
      "metadata": {
        "colab": {
          "base_uri": "https://localhost:8080/"
        },
        "id": "5zynfuH0cCGW",
        "outputId": "93bb6c4f-9d15-4132-a93c-3ff1279d3978"
      },
      "execution_count": 50,
      "outputs": [
        {
          "output_type": "stream",
          "name": "stdout",
          "text": [
            "   patient_id first_name last_name email_id gender                birth_date  \\\n",
            "0   T6hb630b3        Css                                                None   \n",
            "1   T6hb630b3        Css                                                None   \n",
            "2   T6h33b300     Lokesh                         M  1996-05-16T18:30:00.000Z   \n",
            "3   T6h33b300     Lokesh                         M  1996-05-16T18:30:00.000Z   \n",
            "4    TjhB4373      Shila       Das                                             \n",
            "..        ...        ...       ...      ...    ...                       ...   \n",
            "61    TI93Hd5  Tarachand                         M  1980-03-22T18:30:00.000Z   \n",
            "62    Pdh97S6        Jay    Sharma               M  1991-11-19T23:30:00.000Z   \n",
            "63    Pdh97S6        Jay    Sharma               M  1991-11-19T23:30:00.000Z   \n",
            "64    Pdh97S6        Jay    Sharma               M  1991-11-19T23:30:00.000Z   \n",
            "65    Pdh97S6        Jay    Sharma               M  1991-11-19T23:30:00.000Z   \n",
            "\n",
            "     phone_number  isValidMobile  \n",
            "0     96686896670          False  \n",
            "1     96686896670          False  \n",
            "2      9496368916          False  \n",
            "3      9496368916          False  \n",
            "4      7787204833          False  \n",
            "..            ...            ...  \n",
            "61  +919093872282           True  \n",
            "62  +916888324121           True  \n",
            "63  +916888324121           True  \n",
            "64  +916888324121           True  \n",
            "65  +916888324121           True  \n",
            "\n",
            "[66 rows x 8 columns]\n"
          ]
        }
      ]
    },
    {
      "cell_type": "code",
      "source": [],
      "metadata": {
        "id": "spNzeJV5cc4-"
      },
      "execution_count": null,
      "outputs": []
    }
  ]
}